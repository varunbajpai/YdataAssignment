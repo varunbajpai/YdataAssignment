{
 "cells": [
  {
   "cell_type": "code",
   "execution_count": 1,
   "metadata": {},
   "outputs": [],
   "source": [
    "import pandas as pd\n",
    "import calendar \n",
    "import datetime \n",
    "import calendar "
   ]
  },
  {
   "cell_type": "code",
   "execution_count": 2,
   "metadata": {},
   "outputs": [],
   "source": [
    "data_input_file = 'Data Challenge/California_SO2_Measures.csv'\n",
    "data_output_folder = 'data/'\n",
    "CONT_VAR = ['Daily Max 1-hour SO2 Concentration' ,'DAILY_AQI_VALUE' ,'DAILY_OBS_COUNT' ,'PERCENT_COMPLETE']"
   ]
  },
  {
   "cell_type": "code",
   "execution_count": 3,
   "metadata": {},
   "outputs": [],
   "source": [
    "class DataPreProcessing:\n",
    "    '''\n",
    "    No Nan Values found : For Nan values fill in missing using average of some distriibution\n",
    "    '''\n",
    "    def __init__(self):\n",
    "        self.df = pd.read_csv(data_input_file)\n",
    "        self.df = self.drop_no_info_variables()\n",
    "        self.index_list = self.index_list()\n",
    "        self.all_df = self.create_independent_dataframes()\n",
    "        self.df = self.create_df()\n",
    "        self.df = self.changeDateToDay()\n",
    "        self.df = self.create_categorical_variables()\n",
    "        self.mean_normalize_cont_var()\n",
    "        self.save_file()\n",
    "        \n",
    "    def findDay(self, date): \n",
    "        '''\n",
    "        Converts Date to Day : Day conveys information about pollution level (Weekdays pollution should be high)\n",
    "        '''\n",
    "        born = datetime.datetime.strptime(date, '%m %d %Y').weekday() \n",
    "        return (calendar.day_name[born]) \n",
    "    \n",
    "    def changeDateToDay(self):\n",
    "        counter = 0\n",
    "        for i in self.df['Date']:\n",
    "            self.df['Date'][counter] = self.findDay(' '.join(i.split('/')))\n",
    "            counter = counter + 1\n",
    "        return self.df\n",
    "    \n",
    "    \n",
    "    def printdf(self):\n",
    "        print(self.df.describe())\n",
    "        print(self.df)\n",
    "    \n",
    "    def drop_no_info_variables(self):\n",
    "        '''\n",
    "        drop variables that will not be used for computations\n",
    "        '''\n",
    "        self.df.drop(self.df.iloc[:, [1,2,3,5,7,10,11,12,13]], inplace = True, axis = 1) \n",
    "        return self.df\n",
    "    \n",
    "    \n",
    "    def create_independent_dataframes(self):\n",
    "        '''\n",
    "        creates independent dataframes for all counties\n",
    "        '''\n",
    "        all_df = []\n",
    "        for i in range(len(self.index_list)-1):\n",
    "            temp_df = self.df[self.index_list[i]:self.index_list[i+1]]\n",
    "            temp_df.reset_index(drop=True, inplace=True) \n",
    "            all_df.append(temp_df)\n",
    "        return all_df\n",
    "    \n",
    "    \n",
    "    def index_list(self):\n",
    "        '''\n",
    "        Gets index for start of data for each county\n",
    "        '''\n",
    "        index_list = []\n",
    "        for index in range(len(self.df)):\n",
    "            if self.df['Date'][index] == '01/01/2019':\n",
    "                index_list.append(index)\n",
    "        return index_list\n",
    "        \n",
    "    \n",
    "    \n",
    "    def create_df(self):\n",
    "        d = { 'Date' :[], 'Daily Max 1-hour SO2 Concentration':[] ,'DAILY_AQI_VALUE':[] ,'DAILY_OBS_COUNT' :[],\n",
    "         'PERCENT_COMPLETE':[]}\n",
    "        \n",
    "        for i in range(0,292):\n",
    "            temp_df = self.df[self.df['Date'] == self.df['Date'][i]]\n",
    "            temp_df = temp_df.mean(axis=0)    \n",
    "            d['Date'].append(self.df['Date'][i])\n",
    "            d['Daily Max 1-hour SO2 Concentration'].append(temp_df['Daily Max 1-hour SO2 Concentration'])\n",
    "            d['DAILY_AQI_VALUE'].append(temp_df['DAILY_AQI_VALUE'])\n",
    "            d['DAILY_OBS_COUNT'].append(temp_df['DAILY_OBS_COUNT'])\n",
    "            d['PERCENT_COMPLETE'].append(temp_df['PERCENT_COMPLETE'])\n",
    "        df = pd.DataFrame(data=d)\n",
    "        return df\n",
    "    \n",
    "    \n",
    "    def save_file(self):\n",
    "        self.df.to_csv('data.csv',index=False)\n",
    "    \n",
    "    def mean_normalize_cont_var(self):\n",
    "        self.df[CONT_VAR] = self.df[CONT_VAR].apply(lambda x: (x - x.min()) / (x.max() - x.min()))\n",
    "        \n",
    "    \n",
    "    def create_categorical_variables(self):\n",
    "        df = pd.get_dummies(self.df,columns=['Date'])\n",
    "        return df"
   ]
  },
  {
   "cell_type": "code",
   "execution_count": 4,
   "metadata": {},
   "outputs": [
    {
     "name": "stderr",
     "output_type": "stream",
     "text": [
      "//anaconda3/lib/python3.7/site-packages/ipykernel_launcher.py:26: SettingWithCopyWarning: \n",
      "A value is trying to be set on a copy of a slice from a DataFrame\n",
      "\n",
      "See the caveats in the documentation: http://pandas.pydata.org/pandas-docs/stable/indexing.html#indexing-view-versus-copy\n"
     ]
    }
   ],
   "source": [
    "if __name__ == \"__main__\":\n",
    "    obj = DataPreProcessing()"
   ]
  },
  {
   "cell_type": "code",
   "execution_count": null,
   "metadata": {},
   "outputs": [],
   "source": []
  }
 ],
 "metadata": {
  "kernelspec": {
   "display_name": "Python 3",
   "language": "python",
   "name": "python3"
  },
  "language_info": {
   "codemirror_mode": {
    "name": "ipython",
    "version": 3
   },
   "file_extension": ".py",
   "mimetype": "text/x-python",
   "name": "python",
   "nbconvert_exporter": "python",
   "pygments_lexer": "ipython3",
   "version": "3.7.3"
  }
 },
 "nbformat": 4,
 "nbformat_minor": 2
}
